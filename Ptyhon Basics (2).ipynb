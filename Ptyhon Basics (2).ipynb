{
 "cells": [
  {
   "cell_type": "markdown",
   "id": "4a8ddbe9-9673-476e-8493-666ad27267d9",
   "metadata": {},
   "source": [
    "# VARIABLE NAMING AND OUPUT "
   ]
  },
  {
   "cell_type": "code",
   "execution_count": 14,
   "id": "28df29eb-63d2-4a84-9320-3a21a49e3ae6",
   "metadata": {},
   "outputs": [
    {
     "name": "stdout",
     "output_type": "stream",
     "text": [
      "Hello world\n"
     ]
    }
   ],
   "source": [
    "hi= 'Hello world'\n",
    "print(hi)"
   ]
  },
  {
   "cell_type": "code",
   "execution_count": 15,
   "id": "5ec38de0-507c-4eb4-b527-4a57a2a7dc8c",
   "metadata": {},
   "outputs": [
    {
     "name": "stdout",
     "output_type": "stream",
     "text": [
      "hellowelcom123\n",
      "hello\n",
      "welcom\n",
      "123\n"
     ]
    }
   ],
   "source": [
    "a,b,c=\"hello\",\"welcom\",\"123\"\n",
    "print(a+b+c)\n",
    "print(a)\n",
    "print(b)\n",
    "print(c)"
   ]
  },
  {
   "cell_type": "code",
   "execution_count": 16,
   "id": "74f63f48-47f3-4dad-9ab6-c3f3c92e9e39",
   "metadata": {},
   "outputs": [
    {
     "name": "stdout",
     "output_type": "stream",
     "text": [
      "mango apple cherry\n"
     ]
    }
   ],
   "source": [
    "fruit=[\"mango\",\"apple\",\"cherry\"]\n",
    "x,y,z=fruit\n",
    "print(x,y,z)"
   ]
  },
  {
   "cell_type": "markdown",
   "id": "322ccdb2-cf43-4a7a-a706-13d8ef1bb48e",
   "metadata": {},
   "source": [
    "# Wrong Way"
   ]
  },
  {
   "cell_type": "code",
   "execution_count": 18,
   "id": "a01f7b65-8a92-4cb4-bea6-3b684200a781",
   "metadata": {},
   "outputs": [
    {
     "ename": "SyntaxError",
     "evalue": "invalid decimal literal (1755471732.py, line 1)",
     "output_type": "error",
     "traceback": [
      "\u001b[1;36m  Cell \u001b[1;32mIn[18], line 1\u001b[1;36m\u001b[0m\n\u001b[1;33m    2my=hello\u001b[0m\n\u001b[1;37m    ^\u001b[0m\n\u001b[1;31mSyntaxError\u001b[0m\u001b[1;31m:\u001b[0m invalid decimal literal\n"
     ]
    }
   ],
   "source": [
    "2my=hello\n",
    "print(2my)"
   ]
  },
  {
   "cell_type": "code",
   "execution_count": 20,
   "id": "136dadef-3c0a-406c-99d0-9b5980e9281a",
   "metadata": {},
   "outputs": [
    {
     "ename": "TypeError",
     "evalue": "unsupported operand type(s) for +: 'int' and 'str'",
     "output_type": "error",
     "traceback": [
      "\u001b[1;31m---------------------------------------------------------------------------\u001b[0m",
      "\u001b[1;31mTypeError\u001b[0m                                 Traceback (most recent call last)",
      "Cell \u001b[1;32mIn[20], line 3\u001b[0m\n\u001b[0;32m      1\u001b[0m a\u001b[38;5;241m=\u001b[39m\u001b[38;5;241m5\u001b[39m\n\u001b[0;32m      2\u001b[0m b\u001b[38;5;241m=\u001b[39m\u001b[38;5;124m\"\u001b[39m\u001b[38;5;124mhello\u001b[39m\u001b[38;5;124m\"\u001b[39m\n\u001b[1;32m----> 3\u001b[0m \u001b[38;5;28mprint\u001b[39m(a\u001b[38;5;241m+\u001b[39mb)\n",
      "\u001b[1;31mTypeError\u001b[0m: unsupported operand type(s) for +: 'int' and 'str'"
     ]
    }
   ],
   "source": [
    "a=5\n",
    "b=\"hello\"\n",
    "print(a+b)"
   ]
  },
  {
   "cell_type": "code",
   "execution_count": 22,
   "id": "c6321cc1-6614-4bc4-8628-0215611a4472",
   "metadata": {},
   "outputs": [
    {
     "name": "stdout",
     "output_type": "stream",
     "text": [
      "5 hello\n"
     ]
    }
   ],
   "source": [
    "a=5\n",
    "b=\"hello\"\n",
    "print(a,b)"
   ]
  },
  {
   "cell_type": "code",
   "execution_count": 24,
   "id": "e4a7e12b-fd38-4aeb-8493-3fc280897cb4",
   "metadata": {},
   "outputs": [
    {
     "data": {
      "text/plain": [
       "4.9"
      ]
     },
     "execution_count": 24,
     "metadata": {},
     "output_type": "execute_result"
    }
   ],
   "source": [
    "2+2.9"
   ]
  },
  {
   "cell_type": "markdown",
   "id": "74077106-57de-4813-a8a4-626bf48a48cf",
   "metadata": {},
   "source": [
    "# DATA TYPE"
   ]
  },
  {
   "cell_type": "code",
   "execution_count": 28,
   "id": "43f97146-39d0-4c3a-9464-0d8e47b63bde",
   "metadata": {},
   "outputs": [
    {
     "name": "stdout",
     "output_type": "stream",
     "text": [
      "<class 'int'>\n",
      "<class 'float'>\n",
      "<class 'complex'>\n"
     ]
    }
   ],
   "source": [
    "x=1\n",
    "y=2.9\n",
    "z=5j\n",
    "print(type(x))\n",
    "print(type(y))\n",
    "print(type(z))"
   ]
  },
  {
   "cell_type": "markdown",
   "id": "ef7ba7e9-4b54-435c-9679-613304467b47",
   "metadata": {},
   "source": [
    "# Casting"
   ]
  },
  {
   "cell_type": "code",
   "execution_count": 43,
   "id": "63b46888-cea0-4d2d-af5b-5e05e427e34a",
   "metadata": {},
   "outputs": [
    {
     "name": "stdout",
     "output_type": "stream",
     "text": [
      "5 56 56\n",
      "<class 'int'>\n",
      "<class 'int'>\n",
      "<class 'int'>\n"
     ]
    }
   ],
   "source": [
    "x= int(5.6)\n",
    "y= int(\"56\")\n",
    "z= int(56)\n",
    "print(x,y,z)\n",
    "print(type(x))\n",
    "print(type(y))\n",
    "print(type(z))"
   ]
  },
  {
   "cell_type": "code",
   "execution_count": 45,
   "id": "46ce158f-eac5-4cc6-87c5-48fab1feb6ee",
   "metadata": {},
   "outputs": [
    {
     "name": "stdout",
     "output_type": "stream",
     "text": [
      "5.6 56.0 56.0\n",
      "<class 'float'>\n",
      "<class 'float'>\n",
      "<class 'float'>\n"
     ]
    }
   ],
   "source": [
    "x= float(5.6)\n",
    "y= float(\"56\")\n",
    "z= float(56)\n",
    "print(x,y,z)\n",
    "print(type(x))\n",
    "print(type(y))\n",
    "print(type(z))"
   ]
  },
  {
   "cell_type": "code",
   "execution_count": 47,
   "id": "d3fdebf6-e81e-4690-9362-c8ec0e817ea5",
   "metadata": {},
   "outputs": [
    {
     "name": "stdout",
     "output_type": "stream",
     "text": [
      "5.6 56 56\n",
      "<class 'str'>\n",
      "<class 'str'>\n",
      "<class 'str'>\n"
     ]
    }
   ],
   "source": [
    "x= str(5.6)\n",
    "y= str(\"56\")\n",
    "z= str(56)\n",
    "print(x,y,z)\n",
    "print(type(x))\n",
    "print(type(y))\n",
    "print(type(z))"
   ]
  },
  {
   "cell_type": "markdown",
   "id": "bbf80706-5bde-44cb-b6c7-f75c69ded285",
   "metadata": {},
   "source": [
    "# String"
   ]
  },
  {
   "cell_type": "code",
   "execution_count": 61,
   "id": "c4f8f5db-fcf2-4a0a-b565-97181f2fad90",
   "metadata": {},
   "outputs": [
    {
     "name": "stdout",
     "output_type": "stream",
     "text": [
      "hello\n"
     ]
    }
   ],
   "source": [
    "a=\"hello\"\n",
    "print(a)"
   ]
  },
  {
   "cell_type": "code",
   "execution_count": 82,
   "id": "56778a11-3d91-456d-a1fa-a41594c13e87",
   "metadata": {},
   "outputs": [
    {
     "name": "stdout",
     "output_type": "stream",
     "text": [
      "hi Varun\n",
      "vvce \n",
      "b,tec\n"
     ]
    }
   ],
   "source": [
    "a='''hi Varun\n",
    "vvce \n",
    "b,tec'''#multi line string\n",
    "print(a)"
   ]
  },
  {
   "cell_type": "markdown",
   "id": "23e1d17c-1505-40ff-a6ff-b57c00cfb6ab",
   "metadata": {},
   "source": [
    "# String Slicing"
   ]
  },
  {
   "cell_type": "code",
   "execution_count": 65,
   "id": "31ae95e1-7f7e-4fc4-a756-3a1ac5450010",
   "metadata": {},
   "outputs": [
    {
     "name": "stdout",
     "output_type": "stream",
     "text": [
      "o\n",
      "13\n",
      ", W\n",
      "Hello,\n",
      "llo, World!\n"
     ]
    }
   ],
   "source": [
    "a=\"Hello, World!\"\n",
    "print(a[4])# Get the character at position (ARRAY)\n",
    "print(len(a))# length id the string\n",
    "print(a[5:8])#Slicing [from:to(not included)]\n",
    "print(a[:6])#slicing from start\n",
    "print(a[2:])#slicing to end"
   ]
  },
  {
   "cell_type": "markdown",
   "id": "313f7b6f-09d1-4213-8a43-2425d3dcb3d1",
   "metadata": {},
   "source": [
    "# Modify Strings"
   ]
  },
  {
   "cell_type": "code",
   "execution_count": 70,
   "id": "72585ef3-35ca-4379-9648-5ed79ff75397",
   "metadata": {},
   "outputs": [
    {
     "name": "stdout",
     "output_type": "stream",
     "text": [
      "HELLO, WORLD!\n",
      "hello, world!\n"
     ]
    }
   ],
   "source": [
    "a=\"Hello, World!\"\n",
    "print(a.upper())# changes everything to upper case\n",
    "print(a.lower())# changes everythimg to lowe case"
   ]
  },
  {
   "cell_type": "code",
   "execution_count": 72,
   "id": "bcc71896-0599-43ef-b838-c5d8006304d7",
   "metadata": {},
   "outputs": [
    {
     "name": "stdout",
     "output_type": "stream",
     "text": [
      "Hello,   world!\n"
     ]
    }
   ],
   "source": [
    "a=\"    Hello,   world!   \"\n",
    "print(a.strip())# Remove the Whitespace is the space before and/or after the actual text but not in between"
   ]
  },
  {
   "cell_type": "code",
   "execution_count": 74,
   "id": "b2cbeec0-97ea-43ce-b2b1-efcd7951df04",
   "metadata": {},
   "outputs": [
    {
     "name": "stdout",
     "output_type": "stream",
     "text": [
      "Jello, World!\n"
     ]
    }
   ],
   "source": [
    "a = \"Hello, World!\"\n",
    "print(a.replace(\"H\", \"J\"))# (\"replaces this char\", \" to this char\") "
   ]
  },
  {
   "cell_type": "code",
   "execution_count": 76,
   "id": "2b83f4ad-151f-4410-bc7f-3ec128c9b191",
   "metadata": {},
   "outputs": [
    {
     "name": "stdout",
     "output_type": "stream",
     "text": [
      "['Hello', ' World!']\n",
      "['Hell', ', W', 'rld!']\n"
     ]
    }
   ],
   "source": [
    "a = \"Hello, World!\"\n",
    "print(a.split(\",\")) # (\"split everywhere this letter repeats\")\n",
    "print(a.split(\"o\"))"
   ]
  },
  {
   "cell_type": "code",
   "execution_count": 80,
   "id": "3cf0d2f3-78a0-45b0-be2a-2185fcc659a0",
   "metadata": {},
   "outputs": [
    {
     "name": "stdout",
     "output_type": "stream",
     "text": [
      "helloworld\n",
      "helloworld\n",
      "hello world\n"
     ]
    }
   ],
   "source": [
    "a=\"hello\"\n",
    "b=\"world\"\n",
    "c=a+b #Concatenation\n",
    "print(c)# printing\n",
    "print(a+b)#Concatenation\n",
    "print(a+\" \"+b)#Concatenation and adding the space"
   ]
  },
  {
   "cell_type": "markdown",
   "id": "c7bc8178-968a-4275-aa2e-1d28fc2f1edb",
   "metadata": {},
   "source": [
    "# Lists"
   ]
  },
  {
   "cell_type": "code",
   "execution_count": 21,
   "id": "cfaef631-5c46-44d1-8004-bc7bdf9cd1e2",
   "metadata": {},
   "outputs": [],
   "source": [
    "mylist=[\"apple\",'banana',3,True,'mango','cherry']"
   ]
  },
  {
   "cell_type": "code",
   "execution_count": 23,
   "id": "7216d775-a389-48da-aa16-2b36a6336491",
   "metadata": {},
   "outputs": [
    {
     "name": "stdout",
     "output_type": "stream",
     "text": [
      "['apple', 'banana', 3, True, 'mango', 'cherry']\n",
      "6\n",
      "<class 'list'>\n"
     ]
    }
   ],
   "source": [
    "print(mylist)\n",
    "print(len(mylist))\n",
    "print(type(mylist))"
   ]
  },
  {
   "cell_type": "markdown",
   "id": "9485dacc-2369-4ce6-81e0-083c1a518297",
   "metadata": {},
   "source": [
    "# Access the list"
   ]
  },
  {
   "cell_type": "code",
   "execution_count": 26,
   "id": "d6eb597e-b4ab-483d-8e21-b6e30546f025",
   "metadata": {},
   "outputs": [
    {
     "name": "stdout",
     "output_type": "stream",
     "text": [
      "mango\n",
      "['mango', 'cherry']\n",
      "['apple', 'banana', 3, True, 'mango']\n",
      "['mango', 'cherry']\n",
      "banana\n",
      "[3, True]\n",
      "['apple', 'banana', 3, True, 'mango']\n",
      "['banana', 3, True, 'mango', 'cherry']\n"
     ]
    }
   ],
   "source": [
    "print(mylist[4])\n",
    "print(mylist[4:6])\n",
    "print(mylist[:5])\n",
    "print(mylist[4:])\n",
    "print(mylist[-5])\n",
    "print(mylist[-4:-2])\n",
    "print(mylist[:-1])\n",
    "print(mylist[-5:])"
   ]
  },
  {
   "cell_type": "markdown",
   "id": "54f1ef9b-596e-4d41-a9a5-4fa1bafda30a",
   "metadata": {},
   "source": [
    "# change list items"
   ]
  },
  {
   "cell_type": "code",
   "execution_count": 36,
   "id": "ddd2e8e1-4546-4174-b31a-65993867c300",
   "metadata": {},
   "outputs": [
    {
     "name": "stdout",
     "output_type": "stream",
     "text": [
      "['apple', 'banana', 'hello', True, 'mango', 'cherry']\n"
     ]
    }
   ],
   "source": [
    "mylist=[\"apple\",'banana',3,True,'mango','cherry']\n",
    "mylist[2]=\"hello\"\n",
    "print(mylist)"
   ]
  },
  {
   "cell_type": "code",
   "execution_count": 40,
   "id": "f50e36d1-4a1e-49c7-9b94-2b73e9738b6a",
   "metadata": {},
   "outputs": [
    {
     "name": "stdout",
     "output_type": "stream",
     "text": [
      "['apple', 'banana', 'hi', 'world', 'cherry']\n"
     ]
    }
   ],
   "source": [
    "mylist=[\"apple\",'banana',3,True,'mango','cherry']\n",
    "mylist[2:5]=\"hi\",\"world\"\n",
    "print(mylist)"
   ]
  },
  {
   "cell_type": "code",
   "execution_count": 42,
   "id": "d9d34b08-77e3-4ca4-81bb-775330326bbb",
   "metadata": {},
   "outputs": [
    {
     "name": "stdout",
     "output_type": "stream",
     "text": [
      "['apple', 'banana', 'watermelon', 3, True, 'mango', 'cherry']\n"
     ]
    }
   ],
   "source": [
    "mylist=[\"apple\",'banana',3,True,'mango','cherry']\n",
    "mylist.insert(2, \"watermelon\")\n",
    "print(mylist)"
   ]
  },
  {
   "cell_type": "code",
   "execution_count": 44,
   "id": "33a8bd0a-6417-4811-a6e1-c5f6915a1c51",
   "metadata": {},
   "outputs": [
    {
     "name": "stdout",
     "output_type": "stream",
     "text": [
      "['apple', 'banana', 3, True, 'mango', 'cherry', 'orange']\n"
     ]
    }
   ],
   "source": [
    "mylist=[\"apple\",'banana',3,True,'mango','cherry']\n",
    "mylist.append(\"orange\")\n",
    "print(mylist)"
   ]
  },
  {
   "cell_type": "code",
   "execution_count": 52,
   "id": "4c11f7ad-1105-4b9e-bdc5-fca3a138dddc",
   "metadata": {},
   "outputs": [
    {
     "name": "stdout",
     "output_type": "stream",
     "text": [
      "['apple', 'banana', 3, True, 'mango', 'cherry']\n",
      "['apple', 'banana', 3, True, 'mango', 'cherry', 'hello', 'world']\n"
     ]
    }
   ],
   "source": [
    "mylist=[\"apple\",'banana',3]\n",
    "oulist=[True,'mango','cherry']\n",
    "mylist.extend(oulist)\n",
    "print(mylist)\n",
    "hi=(\"hello\",\"world\")\n",
    "mylist.extend(hi)\n",
    "print(mylist)"
   ]
  },
  {
   "cell_type": "code",
   "execution_count": 58,
   "id": "8cec5774-7627-4b81-a0c1-efc7171a6dc9",
   "metadata": {},
   "outputs": [
    {
     "name": "stdout",
     "output_type": "stream",
     "text": [
      "['apple', 'banana', 3, True, 'mango']\n",
      "['apple', 'banana', True, 'mango']\n",
      "['apple', 'banana', 3, True, 'cherry']\n"
     ]
    }
   ],
   "source": [
    "mylist=[\"apple\",'banana',3,True,'mango','cherry']\n",
    "mylist.pop()\n",
    "print(mylist)\n",
    "mylist.remove(3)\n",
    "print(mylist)\n",
    "mylist=[\"apple\",'banana',3,True,'mango','cherry']\n",
    "mylist.pop(4)\n",
    "print(mylist)"
   ]
  },
  {
   "cell_type": "code",
   "execution_count": 60,
   "id": "97077691-84e3-4792-aad7-e716b0334977",
   "metadata": {},
   "outputs": [],
   "source": [
    "mylist=[\"apple\",'banana',3,True,'mango','cherry']\n",
    "x = mylist.pop(2) "
   ]
  },
  {
   "cell_type": "code",
   "execution_count": 62,
   "id": "27ff27da-42d8-4c7f-bf0a-65194b50f748",
   "metadata": {},
   "outputs": [
    {
     "data": {
      "text/plain": [
       "3"
      ]
     },
     "execution_count": 62,
     "metadata": {},
     "output_type": "execute_result"
    }
   ],
   "source": [
    "x"
   ]
  },
  {
   "cell_type": "code",
   "execution_count": 78,
   "id": "51d8d483-06b5-4b9e-95dc-b0f6fada8786",
   "metadata": {},
   "outputs": [
    {
     "data": {
      "text/plain": [
       "3"
      ]
     },
     "execution_count": 78,
     "metadata": {},
     "output_type": "execute_result"
    }
   ],
   "source": [
    "mylist=[\"apple\",'banana',3,True,'mango','cherry']\n",
    "x = mylist.pop(2)\n",
    "x"
   ]
  },
  {
   "cell_type": "code",
   "execution_count": 82,
   "id": "4b03f644-fbd3-4399-ae47-672dfe184435",
   "metadata": {},
   "outputs": [
    {
     "name": "stdout",
     "output_type": "stream",
     "text": [
      "[]\n"
     ]
    },
    {
     "ename": "NameError",
     "evalue": "name 'mylist' is not defined",
     "output_type": "error",
     "traceback": [
      "\u001b[1;31m---------------------------------------------------------------------------\u001b[0m",
      "\u001b[1;31mNameError\u001b[0m                                 Traceback (most recent call last)",
      "Cell \u001b[1;32mIn[82], line 4\u001b[0m\n\u001b[0;32m      2\u001b[0m \u001b[38;5;28mprint\u001b[39m(mylist)\n\u001b[0;32m      3\u001b[0m \u001b[38;5;28;01mdel\u001b[39;00m mylist\n\u001b[1;32m----> 4\u001b[0m \u001b[38;5;28mprint\u001b[39m(mylist)\n",
      "\u001b[1;31mNameError\u001b[0m: name 'mylist' is not defined"
     ]
    }
   ],
   "source": [
    "mylist.clear()\n",
    "print(mylist)\n",
    "del mylist\n",
    "print(mylist)"
   ]
  },
  {
   "cell_type": "code",
   "execution_count": 74,
   "id": "fefbe609-2932-447d-b923-c7fc1df898c6",
   "metadata": {},
   "outputs": [
    {
     "data": {
      "text/plain": [
       "['apple', 'apple', 'apple']"
      ]
     },
     "execution_count": 74,
     "metadata": {},
     "output_type": "execute_result"
    }
   ],
   "source": [
    "fruits = ['apple', 'banana', 'cherry']\n",
    "newlist = ['apple' for x in fruits]\n",
    "newlist"
   ]
  },
  {
   "cell_type": "markdown",
   "id": "7a310659-4409-4b02-8c9c-245c58c75cfd",
   "metadata": {},
   "source": [
    "# Loop List"
   ]
  },
  {
   "cell_type": "code",
   "execution_count": 1,
   "id": "d07a84b9-58be-4b14-9050-abed2faf1be7",
   "metadata": {},
   "outputs": [
    {
     "name": "stdout",
     "output_type": "stream",
     "text": [
      "apple\n",
      "banana\n",
      "3\n",
      "True\n",
      "mango\n",
      "cherry\n"
     ]
    }
   ],
   "source": [
    "mylist=[\"apple\",'banana',3,True,'mango','cherry']\n",
    "for x in mylist:\n",
    "    print(x)"
   ]
  },
  {
   "cell_type": "code",
   "execution_count": 5,
   "id": "39af96ad-e384-403a-888b-783eda3162d0",
   "metadata": {},
   "outputs": [
    {
     "name": "stdout",
     "output_type": "stream",
     "text": [
      "hello\n",
      "hi\n"
     ]
    }
   ],
   "source": [
    "thislist=[\"hello\",\"hi\"]\n",
    "for i in range(len(thislist)):\n",
    "  print(thislist[i])"
   ]
  },
  {
   "cell_type": "code",
   "execution_count": 15,
   "id": "44d74302-4d0d-4493-a39b-7c7dacd71be0",
   "metadata": {},
   "outputs": [
    {
     "name": "stdout",
     "output_type": "stream",
     "text": [
      "apple\n",
      "banana\n",
      "3\n",
      "True\n",
      "mango\n",
      "cherry\n"
     ]
    },
    {
     "data": {
      "text/plain": [
       "[None, None, None, None, None, None]"
      ]
     },
     "execution_count": 15,
     "metadata": {},
     "output_type": "execute_result"
    }
   ],
   "source": [
    "mylist=[\"apple\",'banana',3,True,'mango','cherry']\n",
    "[print(x)for x in mylist]"
   ]
  },
  {
   "cell_type": "markdown",
   "id": "a6ad8a4d-23aa-44f6-8fd6-0836e2b98982",
   "metadata": {},
   "source": [
    "# List Comprehension"
   ]
  },
  {
   "cell_type": "code",
   "execution_count": 20,
   "id": "57196c06-20fc-4886-bbe0-1327c7b3b0e5",
   "metadata": {},
   "outputs": [
    {
     "name": "stdout",
     "output_type": "stream",
     "text": [
      "['apple', 'banana', 'mango']\n"
     ]
    }
   ],
   "source": [
    "mylist=[\"apple\",'banana','mango','cherry']\n",
    "newlist = [x for x in mylist if \"a\" in x]\n",
    "print(newlist)"
   ]
  },
  {
   "cell_type": "code",
   "execution_count": 24,
   "id": "e938ad5a-c2fb-4bef-a04c-0077428130d8",
   "metadata": {},
   "outputs": [
    {
     "data": {
      "text/plain": [
       "'The Syntax\\nnewlist = [expression for item in iterable if condition == True]'"
      ]
     },
     "execution_count": 24,
     "metadata": {},
     "output_type": "execute_result"
    }
   ],
   "source": [
    "#The Syntax\n",
    "#newlist = [expression for item in iterable if condition == True]"
   ]
  },
  {
   "cell_type": "code",
   "execution_count": 28,
   "id": "18bf1b9d-180d-4ffe-962b-8ad7d6aaf4c7",
   "metadata": {},
   "outputs": [
    {
     "name": "stdout",
     "output_type": "stream",
     "text": [
      "['apple', 'banana', 'cherry', 'mango']\n"
     ]
    }
   ],
   "source": [
    "mylist=[\"apple\",'mango','cherry','banana']\n",
    "mylist.sort()\n",
    "print(mylist)"
   ]
  },
  {
   "cell_type": "code",
   "execution_count": 30,
   "id": "cbc66f24-6e5d-4581-a720-17271ded38db",
   "metadata": {},
   "outputs": [
    {
     "name": "stdout",
     "output_type": "stream",
     "text": [
      "[23, 50, 65, 82, 100]\n"
     ]
    }
   ],
   "source": [
    "thislist = [100, 50, 65, 82, 23]\n",
    "thislist.sort()\n",
    "print(thislist)"
   ]
  },
  {
   "cell_type": "code",
   "execution_count": 32,
   "id": "5bf3dd1d-32a1-4553-86db-8915d3a77fa6",
   "metadata": {},
   "outputs": [
    {
     "name": "stdout",
     "output_type": "stream",
     "text": [
      "['a', 'b', 'c', 1, 2, 3]\n"
     ]
    }
   ],
   "source": [
    "list1 = [\"a\", \"b\", \"c\"]\n",
    "list2 = [1, 2, 3]\n",
    "\n",
    "list3 = list1 + list2\n",
    "print(list3)"
   ]
  },
  {
   "cell_type": "code",
   "execution_count": 38,
   "id": "23b68333-cb9c-4072-9e90-7fa927e96e57",
   "metadata": {},
   "outputs": [
    {
     "name": "stdout",
     "output_type": "stream",
     "text": [
      "['apple', 'banana', 3, True, 'mango', 'cherry']\n",
      "['apple', 'banana', 3, True, 'mango', 'cherry', True, 'mango', 'cherry']\n",
      "['apple', 'banana', 3, True, 'mango', 'cherry', True, 'mango', 'cherry', 'hello', 'world']\n"
     ]
    }
   ],
   "source": [
    "mylist=[\"apple\",'banana',3]\n",
    "oulist=[True,'mango','cherry']\n",
    "for x in oulist:\n",
    "  mylist.append(x)\n",
    "print(mylist)\n",
    "mylist.extend(oulist)\n",
    "print(mylist)\n",
    "hi=(\"hello\",\"world\")\n",
    "mylist.extend(hi)\n",
    "print(mylist)"
   ]
  },
  {
   "cell_type": "markdown",
   "id": "f4e38234-e2eb-4bdf-a0b4-c07a4ebc5d80",
   "metadata": {},
   "source": [
    "# Tuples"
   ]
  },
  {
   "cell_type": "code",
   "execution_count": 10,
   "id": "5e34b8f1-9d6d-4930-bbdb-0b9733a0079c",
   "metadata": {},
   "outputs": [
    {
     "name": "stdout",
     "output_type": "stream",
     "text": [
      "('a', 'b', 'c', 'd', 'e', 'f')\n",
      "6\n",
      "<class 'tuple'>\n",
      "b\n",
      "f\n",
      "('b', 'c', 'd', 'e')\n",
      "('c', 'd', 'e')\n"
     ]
    }
   ],
   "source": [
    "mytuple=(\"a\",\"b\",\"c\",\"d\",\"e\",\"f\")\n",
    "print(mytuple)\n",
    "print(len(mytuple))\n",
    "print(type(mytuple))\n",
    "print(mytuple[1]) #accessing the tuple\n",
    "print(mytuple[-1]) #accessing the tuple can be negitive indexing\n",
    "print(mytuple[1:5])#Range of Indexes\n",
    "print(mytuple[-4:-1])#Range of Indexes can be negitive"
   ]
  },
  {
   "cell_type": "markdown",
   "id": "3c900720-850b-4bd5-8315-cbd3554a3a47",
   "metadata": {},
   "source": [
    "# Update Tuples"
   ]
  },
  {
   "cell_type": "code",
   "execution_count": 17,
   "id": "3a682c89-c974-44ab-ad13-66d9f50e329e",
   "metadata": {},
   "outputs": [
    {
     "name": "stdout",
     "output_type": "stream",
     "text": [
      "('a', 'b', 'e', 'd', 'e', 'f')\n"
     ]
    }
   ],
   "source": [
    "mytuple=(\"a\",\"b\",\"c\",\"d\",\"e\",\"f\")\n",
    "y=list(mytuple) #Convert into a list\n",
    "y[2]=\"e\"\n",
    "mytuple=tuple(y) #Convert into a tuple\n",
    "print(mytuple)"
   ]
  },
  {
   "cell_type": "code",
   "execution_count": 19,
   "id": "2e744a1f-dd05-49ad-aff1-d5f756eeb2da",
   "metadata": {},
   "outputs": [
    {
     "name": "stdout",
     "output_type": "stream",
     "text": [
      "('a', 'b', 'c', 'd', 'e', 'f', 'ee')\n"
     ]
    }
   ],
   "source": [
    "mytuple=(\"a\",\"b\",\"c\",\"d\",\"e\",\"f\")\n",
    "y=list(mytuple) #Convert into a list\n",
    "y.append(\"ee\") \n",
    "mytuple=tuple(y) #Convert into a tuple\n",
    "print(mytuple)"
   ]
  },
  {
   "cell_type": "code",
   "execution_count": 23,
   "id": "b9409f31-e312-4c00-9ac9-b7bbf5e3f818",
   "metadata": {},
   "outputs": [
    {
     "name": "stdout",
     "output_type": "stream",
     "text": [
      "('a', 'b', 'c', 'd', 'e', 'f', 'ee')\n"
     ]
    }
   ],
   "source": [
    "mytuple=(\"a\",\"b\",\"c\",\"d\",\"e\",\"f\")\n",
    "y=(\"ee\",)\n",
    "\n",
    "mytuple += y  #Add tuple to a tuple\n",
    "print(mytuple)"
   ]
  },
  {
   "cell_type": "code",
   "execution_count": 25,
   "id": "9172ad0e-5125-48d1-b854-de3bc4db2552",
   "metadata": {},
   "outputs": [
    {
     "name": "stdout",
     "output_type": "stream",
     "text": [
      "('b', 'c', 'd', 'e', 'f')\n"
     ]
    }
   ],
   "source": [
    "mytuple=(\"a\",\"b\",\"c\",\"d\",\"e\",\"f\")\n",
    "y=list(mytuple) #Convert into a list\n",
    "y.remove(\"a\")\n",
    "mytuple=tuple(y)#Convert into a tuple\n",
    "print(mytuple)"
   ]
  },
  {
   "cell_type": "code",
   "execution_count": 29,
   "id": "aec555bb-1374-4ef6-bf61-1e56c3b2d757",
   "metadata": {},
   "outputs": [
    {
     "name": "stdout",
     "output_type": "stream",
     "text": [
      "a\n",
      "b\n",
      "c\n"
     ]
    }
   ],
   "source": [
    "mytuple=(\"a\",\"b\",\"c\")\n",
    "(x,y,z)=mytuple\n",
    "print(x)\n",
    "print(y)\n",
    "print(z)"
   ]
  },
  {
   "cell_type": "code",
   "execution_count": 31,
   "id": "b28e2e66-7e33-46ea-9d6e-05070dd92b32",
   "metadata": {},
   "outputs": [
    {
     "name": "stdout",
     "output_type": "stream",
     "text": [
      "a\n",
      "b\n",
      "['c', 'd', 'e', 'f']\n"
     ]
    }
   ],
   "source": [
    "mytuple=(\"a\",\"b\",\"c\",\"d\",\"e\",\"f\")\n",
    "(x,y,*z)=mytuple\n",
    "print(x)\n",
    "print(y)\n",
    "print(z)"
   ]
  },
  {
   "cell_type": "code",
   "execution_count": 33,
   "id": "3bb95a91-791d-40ff-95bc-863aebf151df",
   "metadata": {},
   "outputs": [
    {
     "name": "stdout",
     "output_type": "stream",
     "text": [
      "a\n",
      "['b', 'c', 'd', 'e']\n",
      "f\n"
     ]
    }
   ],
   "source": [
    "mytuple=(\"a\",\"b\",\"c\",\"d\",\"e\",\"f\")\n",
    "(x,*y,z)=mytuple\n",
    "print(x)\n",
    "print(y)\n",
    "print(z)"
   ]
  },
  {
   "cell_type": "markdown",
   "id": "479d8ae1-cc0e-4df2-81f2-4d09d0fc89c6",
   "metadata": {},
   "source": [
    "# Looping in tuple"
   ]
  },
  {
   "cell_type": "code",
   "execution_count": 41,
   "id": "f7382969-7287-45bd-99e6-5a1de77cc150",
   "metadata": {},
   "outputs": [
    {
     "name": "stdout",
     "output_type": "stream",
     "text": [
      "a\n",
      "b\n",
      "c\n",
      "d\n",
      "e\n",
      "f\n",
      "a\n",
      "b\n",
      "c\n",
      "d\n",
      "e\n",
      "f\n"
     ]
    }
   ],
   "source": [
    "mytuple=(\"a\",\"b\",\"c\",\"d\",\"e\",\"f\")  # for loop\n",
    "for x in mytuple:  \n",
    "  print(x)\n",
    "for i in range(len(mytuple)): #using len() in functiom\n",
    "  print(mytuple[i])"
   ]
  },
  {
   "cell_type": "code",
   "execution_count": 1,
   "id": "d7428706-7a39-4a13-9786-c6ff55df94e5",
   "metadata": {},
   "outputs": [
    {
     "name": "stdout",
     "output_type": "stream",
     "text": [
      "a\n",
      "b\n",
      "c\n",
      "d\n",
      "e\n",
      "f\n"
     ]
    }
   ],
   "source": [
    "mytuple=(\"a\",\"b\",\"c\",\"d\",\"e\",\"f\")\n",
    "i=0\n",
    "while i < len(mytuple):\n",
    "    print(mytuple[i])\n",
    "    i += 1"
   ]
  },
  {
   "cell_type": "code",
   "execution_count": 3,
   "id": "d12d5242-d433-4792-bec6-e4e575281f12",
   "metadata": {},
   "outputs": [
    {
     "name": "stdout",
     "output_type": "stream",
     "text": [
      "('a', 'b', 'c', 1, 2, 3)\n",
      "(1, 2, 3, 1, 2, 3)\n"
     ]
    }
   ],
   "source": [
    "tuple1 = (\"a\", \"b\" , \"c\")\n",
    "tuple2 = (1, 2, 3)\n",
    "\n",
    "tuple3 = tuple1 + tuple2\n",
    "tuple4 = tuple2 * 2\n",
    "print(tuple3)\n",
    "print(tuple4)"
   ]
  },
  {
   "cell_type": "markdown",
   "id": "bc6d6f53-326f-4d7e-ba45-862f184bda9e",
   "metadata": {},
   "source": [
    "# Dictionaries"
   ]
  },
  {
   "cell_type": "code",
   "execution_count": 30,
   "id": "b5696362-688b-480d-ab6d-64b446c40020",
   "metadata": {},
   "outputs": [
    {
     "name": "stdout",
     "output_type": "stream",
     "text": [
      "1\n",
      "{'x': 1, 'y': 'hello', 'z': True, 'colors': ['red', 'white', 'blue']}\n",
      "hello\n",
      "dict_keys(['x', 'y', 'z', 'colors'])\n",
      "dict_values([1, 'hello', True, ['red', 'white', 'blue']])\n",
      "{'x': 1, 'y': 'hello', 'z': True, 'colors': ['red', 'white', 'blue'], 'zz': 123}\n"
     ]
    }
   ],
   "source": [
    "thisdict={\n",
    "    \"x\" : 1,\n",
    "    \"y\" : \"hello\", # key:value\n",
    "    \"z\" : True,\n",
    "    \"colors\": [\"red\", \"white\", \"blue\"]\n",
    "}\n",
    "print(thisdict[\"x\"]) #printing value\n",
    "print(thisdict)# print dict\n",
    "x=thisdict.get(\"y\")\n",
    "print(x)\n",
    "y=thisdict.keys()\n",
    "print(y)\n",
    "x = thisdict.values()\n",
    "print(x)\n",
    "thisdict[\"zz\"]=123\n",
    "print(thisdict)"
   ]
  },
  {
   "cell_type": "markdown",
   "id": "ed08f782-0ed2-462b-8e85-99a0326de10b",
   "metadata": {},
   "source": [
    "# Change Values"
   ]
  },
  {
   "cell_type": "code",
   "execution_count": 39,
   "id": "40d0ca96-713f-4e9a-b5d1-ee5aa89213dd",
   "metadata": {},
   "outputs": [
    {
     "name": "stdout",
     "output_type": "stream",
     "text": [
      "{'x': 1, 'y': 'hi', 'z': False, 'colors': ['red', 'white', 'blue']}\n"
     ]
    }
   ],
   "source": [
    "thisdict={\n",
    "    \"x\" : 1,\n",
    "    \"y\" : \"hello\", # key:value\n",
    "    \"z\" : True,\n",
    "    \"colors\": [\"red\", \"white\", \"blue\"]\n",
    "}\n",
    "thisdict[\"z\"]=False\n",
    "thisdict.update({\"y\":\"hi\"})\n",
    "print(thisdict)"
   ]
  },
  {
   "cell_type": "markdown",
   "id": "734a1e5b-1fe9-481a-abbe-2defc172a4b5",
   "metadata": {},
   "source": [
    "# Add Items"
   ]
  },
  {
   "cell_type": "code",
   "execution_count": 44,
   "id": "eb199dec-2cd6-4734-a61b-1728924c4026",
   "metadata": {},
   "outputs": [
    {
     "name": "stdout",
     "output_type": "stream",
     "text": [
      "{'x': 1, 'y': 'hello', 'z': True, 'colors': ['red', 'white', 'blue'], 'col': 'red', 'yy': 'hi'}\n"
     ]
    }
   ],
   "source": [
    "thisdict={\n",
    "    \"x\" : 1,\n",
    "    \"y\" : \"hello\", # key:value\n",
    "    \"z\" : True,\n",
    "    \"colors\": [\"red\", \"white\", \"blue\"]\n",
    "}\n",
    "thisdict[\"col\"] = \"red\"\n",
    "thisdict.update({\"yy\":\"hi\"})\n",
    "print(thisdict)"
   ]
  },
  {
   "cell_type": "markdown",
   "id": "8674cf4f-c525-489f-b4c6-b82fa9069a22",
   "metadata": {},
   "source": [
    "# remove items"
   ]
  },
  {
   "cell_type": "code",
   "execution_count": 51,
   "id": "4d5939a1-f463-45c4-a0fc-888bbbb59121",
   "metadata": {},
   "outputs": [
    {
     "name": "stdout",
     "output_type": "stream",
     "text": [
      "{'y': 'hello', 'z': True, 'colors': ['red', 'white', 'blue']}\n"
     ]
    }
   ],
   "source": [
    "thisdict={\n",
    "    \"x\" : 1,\n",
    "    \"y\" : \"hello\", # key:value\n",
    "    \"z\" : True,\n",
    "    \"colors\": [\"red\", \"white\", \"blue\"]\n",
    "}\n",
    "thisdict.pop(\"x\")\n",
    "print(thisdict)"
   ]
  },
  {
   "cell_type": "code",
   "execution_count": 53,
   "id": "8cfbce7b-ed8a-425d-99c9-6c95571f4545",
   "metadata": {},
   "outputs": [
    {
     "name": "stdout",
     "output_type": "stream",
     "text": [
      "{'y': 'hello', 'z': True}\n"
     ]
    }
   ],
   "source": [
    "thisdict.popitem() #last inserted item will be removed\n",
    "print(thisdict)"
   ]
  },
  {
   "cell_type": "code",
   "execution_count": 57,
   "id": "aa6546a3-820a-4870-a4f1-754ae4853bf4",
   "metadata": {},
   "outputs": [
    {
     "name": "stdout",
     "output_type": "stream",
     "text": [
      "{'y': 'hello', 'z': True, 'colors': ['red', 'white', 'blue']}\n"
     ]
    }
   ],
   "source": [
    "thisdict={\n",
    "    \"x\" : 1,\n",
    "    \"y\" : \"hello\", # key:value\n",
    "    \"z\" : True,\n",
    "    \"colors\": [\"red\", \"white\", \"blue\"]\n",
    "}\n",
    "del thisdict[\"x\"]\n",
    "print(thisdict)"
   ]
  },
  {
   "cell_type": "code",
   "execution_count": 59,
   "id": "d3bd2cdd-146e-4986-b201-0f7e746a3dec",
   "metadata": {},
   "outputs": [
    {
     "name": "stdout",
     "output_type": "stream",
     "text": [
      "{}\n"
     ]
    }
   ],
   "source": [
    "thisdict.clear()\n",
    "print(thisdict)"
   ]
  },
  {
   "cell_type": "markdown",
   "id": "5c2780f8-f4c4-4236-947b-5469eb42470d",
   "metadata": {},
   "source": [
    "# Nested Dictionaries"
   ]
  },
  {
   "cell_type": "code",
   "execution_count": 72,
   "id": "a2812c5f-7a9c-481d-bab8-e35cf004df4e",
   "metadata": {},
   "outputs": [
    {
     "name": "stdout",
     "output_type": "stream",
     "text": [
      "2\n"
     ]
    }
   ],
   "source": [
    "Nested={\n",
    "    \"x1\":{\n",
    "        \"y\":1,\n",
    "        \"z\":\"hi\"\n",
    "    },\n",
    "    \"x2\":{\n",
    "        \"y1\":2,\n",
    "        \"zz\":\"hi\"\n",
    "    },\n",
    "    \"x3\":{\n",
    "        \"y2\":3,\n",
    "        \"zzz\":\"hi\"\n",
    "    }\n",
    "}\n",
    "print(Nested[\"x2\"][\"y1\"])#access the nested loop\n"
   ]
  },
  {
   "cell_type": "code",
   "execution_count": 78,
   "id": "61e955bc-6074-453b-bf3b-82686bdc9d3a",
   "metadata": {},
   "outputs": [
    {
     "name": "stdout",
     "output_type": "stream",
     "text": [
      "x1\n",
      "y 1\n",
      "z hi\n",
      "x2\n",
      "y1 2\n",
      "zz hi\n",
      "x3\n",
      "y2 3\n",
      "zzz hi\n"
     ]
    }
   ],
   "source": [
    "for x,obj in Nested.items(): #looping in nested dictionary\n",
    "    print(x)\n",
    "    for y in obj:\n",
    "        print(y,obj[y])"
   ]
  },
  {
   "cell_type": "code",
   "execution_count": null,
   "id": "e3657614-cfe9-4bbc-8991-2d1fd229535c",
   "metadata": {},
   "outputs": [],
   "source": []
  }
 ],
 "metadata": {
  "kernelspec": {
   "display_name": "Python 3 (ipykernel)",
   "language": "python",
   "name": "python3"
  },
  "language_info": {
   "codemirror_mode": {
    "name": "ipython",
    "version": 3
   },
   "file_extension": ".py",
   "mimetype": "text/x-python",
   "name": "python",
   "nbconvert_exporter": "python",
   "pygments_lexer": "ipython3",
   "version": "3.11.7"
  }
 },
 "nbformat": 4,
 "nbformat_minor": 5
}
