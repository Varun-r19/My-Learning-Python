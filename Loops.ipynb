{
 "cells": [
  {
   "cell_type": "code",
   "execution_count": 3,
   "id": "a68467ae-b56d-497a-b63e-56f550a79fc2",
   "metadata": {},
   "outputs": [
    {
     "name": "stdout",
     "output_type": "stream",
     "text": [
      "a\n"
     ]
    }
   ],
   "source": [
    "a=12\n",
    "b=23\n",
    "if a<b:\n",
    "    print(\"a\")\n",
    "else:\n",
    "    print(\"b\")"
   ]
  },
  {
   "cell_type": "code",
   "execution_count": 7,
   "id": "82acbb58-36f0-4997-8d80-5fa8c32b2d43",
   "metadata": {},
   "outputs": [
    {
     "name": "stdout",
     "output_type": "stream",
     "text": [
      "a\n"
     ]
    }
   ],
   "source": [
    "a=12\n",
    "b=23\n",
    "print(\"a\") if a<b else print(\"b\")#Short Hand If ... Else"
   ]
  },
  {
   "cell_type": "code",
   "execution_count": 15,
   "id": "80b03365-ed2f-4955-ae77-e98340e129be",
   "metadata": {},
   "outputs": [
    {
     "name": "stdout",
     "output_type": "stream",
     "text": [
      "b\n"
     ]
    }
   ],
   "source": [
    "a=15\n",
    "b=12\n",
    "if a<b :\n",
    "    print(\"a\")\n",
    "elif a==b:\n",
    "    print(\"a=b\")\n",
    "else:\n",
    "    print(\"b\")\n",
    "    "
   ]
  },
  {
   "cell_type": "code",
   "execution_count": 29,
   "id": "78be1765-8607-4842-ae3a-d635337a682b",
   "metadata": {},
   "outputs": [
    {
     "name": "stdout",
     "output_type": "stream",
     "text": [
      "a=b\n"
     ]
    }
   ],
   "source": [
    "a=12\n",
    "b=12\n",
    "\n",
    "print(\"a\") if a<b else print(\"a=b\") if a==b else print(\"b\") #Short Hand If ... Else"
   ]
  },
  {
   "cell_type": "code",
   "execution_count": 35,
   "id": "786a8557-52b0-4173-a0ce-20014404f9f5",
   "metadata": {},
   "outputs": [
    {
     "name": "stdout",
     "output_type": "stream",
     "text": [
      "b is greater\n"
     ]
    }
   ],
   "source": [
    "a=12\n",
    "b=16\n",
    "c=14\n",
    "if a<b and b>c:\n",
    "    print(\"b is greater\")"
   ]
  },
  {
   "cell_type": "code",
   "execution_count": 39,
   "id": "e3aebc7b-640d-4c5d-9c99-d48a75f42844",
   "metadata": {},
   "outputs": [
    {
     "name": "stdout",
     "output_type": "stream",
     "text": [
      "a<b or c<b\n"
     ]
    }
   ],
   "source": [
    "a=12 \n",
    "b=41\n",
    "c=14\n",
    "if a<b or c<b:     # a logical operator, and is used to combine conditional statements\n",
    "    print(\"a<b or c<b\")"
   ]
  },
  {
   "cell_type": "code",
   "execution_count": null,
   "id": "f111510f-e837-4b30-bedf-b7b2ad2de631",
   "metadata": {},
   "outputs": [],
   "source": []
  },
  {
   "cell_type": "code",
   "execution_count": 41,
   "id": "037f5299-3fba-489a-842c-e887865e2df8",
   "metadata": {},
   "outputs": [
    {
     "name": "stdout",
     "output_type": "stream",
     "text": [
      "a is not greater than b\n"
     ]
    }
   ],
   "source": [
    "a=16\n",
    "b=48\n",
    "if not a>b:\n",
    "    print(\"a is not greater than b\")"
   ]
  },
  {
   "cell_type": "code",
   "execution_count": 47,
   "id": "e8ba7ce1-0aa2-493d-946d-5e1879dbdbfc",
   "metadata": {},
   "outputs": [
    {
     "name": "stdout",
     "output_type": "stream",
     "text": [
      ">10\n",
      " <20\n"
     ]
    }
   ],
   "source": [
    "x = 16\n",
    "\n",
    "if x > 10:\n",
    "  print(\">10\")  #Nested If  \n",
    "  if x > 20:\n",
    "    print(\" >20\")\n",
    "  else:\n",
    "    print(\" <20\")\n"
   ]
  },
  {
   "cell_type": "code",
   "execution_count": 49,
   "id": "79f127a5-3e30-4edc-92d6-e327dbaa5378",
   "metadata": {},
   "outputs": [],
   "source": [
    "a=16\n",
    "b=48\n",
    "if not a>b: #pass statement to avoid getting an error. with no content\n",
    "    pass"
   ]
  },
  {
   "cell_type": "markdown",
   "id": "7dea0825-8384-46ea-bcb2-ea40719fdc88",
   "metadata": {},
   "source": [
    "# While Loop"
   ]
  },
  {
   "cell_type": "code",
   "execution_count": 9,
   "id": "f0f8c9a2-bb81-4dcd-80f5-e31b62ae6163",
   "metadata": {},
   "outputs": [
    {
     "name": "stdout",
     "output_type": "stream",
     "text": [
      "0\n",
      "1\n",
      "2\n",
      "3\n",
      "4\n",
      "5\n",
      "6\n"
     ]
    }
   ],
   "source": [
    "i = 0\n",
    "while i <= 6:\n",
    "    print(i)\n",
    "    i += 1"
   ]
  },
  {
   "cell_type": "code",
   "execution_count": 14,
   "id": "7dbf51f6-41ff-430b-9327-f21a520b1e31",
   "metadata": {},
   "outputs": [
    {
     "name": "stdout",
     "output_type": "stream",
     "text": [
      "0\n",
      "1\n",
      "2\n",
      "3\n",
      "4\n",
      "its breaking\n"
     ]
    }
   ],
   "source": [
    "i = 0\n",
    "while i <= 6:\n",
    "    print(i)\n",
    "    if i== 4:\n",
    "        print(\"its breaking\")\n",
    "        break\n",
    "    i += 1"
   ]
  },
  {
   "cell_type": "code",
   "execution_count": 20,
   "id": "8ccb3e82-8fd5-4c11-bb08-cc8dbbf2773b",
   "metadata": {},
   "outputs": [
    {
     "name": "stdout",
     "output_type": "stream",
     "text": [
      "1\n",
      "2\n",
      "3\n",
      "we dont need 4\n",
      "5\n",
      "6\n",
      "7\n"
     ]
    }
   ],
   "source": [
    "i = 0\n",
    "while i <= 6:\n",
    "    i += 1\n",
    "    if i== 4:\n",
    "        print(\"we dont need 4\")\n",
    "        continue\n",
    "    print(i)\n",
    "    "
   ]
  },
  {
   "cell_type": "code",
   "execution_count": 28,
   "id": "676ad422-ffed-4e5c-b13e-8324f04ac946",
   "metadata": {},
   "outputs": [
    {
     "name": "stdout",
     "output_type": "stream",
     "text": [
      "0\n",
      "1\n",
      "2\n",
      "3\n",
      "4\n",
      "5\n",
      "this is bigger than 6\n"
     ]
    }
   ],
   "source": [
    "i=0\n",
    "while i<6:\n",
    "    print(i)\n",
    "    i+=1\n",
    "else:\n",
    "    print(\"this is bigger than 6\")"
   ]
  },
  {
   "cell_type": "code",
   "execution_count": null,
   "id": "b8b67127-4bc9-45d5-a0a7-045a89b32606",
   "metadata": {},
   "outputs": [],
   "source": []
  }
 ],
 "metadata": {
  "kernelspec": {
   "display_name": "Python 3 (ipykernel)",
   "language": "python",
   "name": "python3"
  },
  "language_info": {
   "codemirror_mode": {
    "name": "ipython",
    "version": 3
   },
   "file_extension": ".py",
   "mimetype": "text/x-python",
   "name": "python",
   "nbconvert_exporter": "python",
   "pygments_lexer": "ipython3",
   "version": "3.12.4"
  }
 },
 "nbformat": 4,
 "nbformat_minor": 5
}
