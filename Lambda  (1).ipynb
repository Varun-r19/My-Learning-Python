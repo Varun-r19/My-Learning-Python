{
 "cells": [
  {
   "cell_type": "markdown",
   "id": "621d753e-d578-4b98-a13a-5d4faf849e78",
   "metadata": {},
   "source": [
    "# Lambda function"
   ]
  },
  {
   "cell_type": "code",
   "execution_count": 4,
   "id": "66744baf-65e5-4c30-af61-52fc67ff51dc",
   "metadata": {},
   "outputs": [
    {
     "name": "stdout",
     "output_type": "stream",
     "text": [
      "63\n"
     ]
    }
   ],
   "source": [
    "x=lambda a:(a*4)**a-1  #lambda arguments : expression\n",
    "print(x(2))"
   ]
  },
  {
   "cell_type": "code",
   "execution_count": 6,
   "id": "11feb470-3646-4954-96cd-5db903642f23",
   "metadata": {},
   "outputs": [
    {
     "name": "stdout",
     "output_type": "stream",
     "text": [
      "511\n"
     ]
    }
   ],
   "source": [
    "x=lambda a,b:(a*4)**b-1 #arguments can be any no but only 1 expression\n",
    "print(x(2,3))"
   ]
  },
  {
   "cell_type": "raw",
   "id": "9a354f3e-b6c1-481b-9ad1-8e098486f532",
   "metadata": {},
   "source": [
    "The power of lambda is better shown when you use them as an anonymous function inside another function."
   ]
  },
  {
   "cell_type": "code",
   "execution_count": 18,
   "id": "34baa52f-2275-4daa-94fb-c32f06c74a16",
   "metadata": {},
   "outputs": [
    {
     "name": "stdout",
     "output_type": "stream",
     "text": [
      "11\n",
      "20\n"
     ]
    }
   ],
   "source": [
    "def name(a):\n",
    "    return lambda x,y:a+x**y\n",
    "z=name(3)\n",
    "q=name(4)\n",
    "print(z(2,3))\n",
    "print(q(4,2))"
   ]
  },
  {
   "cell_type": "markdown",
   "id": "cd284915-7842-4670-9428-77ceb596f3cb",
   "metadata": {},
   "source": [
    "# __init__ finction"
   ]
  },
  {
   "cell_type": "code",
   "execution_count": 23,
   "id": "88ec537e-60eb-4536-969f-253fe2ce8e4b",
   "metadata": {},
   "outputs": [
    {
     "name": "stdout",
     "output_type": "stream",
     "text": [
      "5\n"
     ]
    }
   ],
   "source": [
    "class name:  # defining calss\n",
    "    x=5\n",
    "print(name.x) #using class/ retriving the class"
   ]
  },
  {
   "cell_type": "code",
   "execution_count": 31,
   "id": "cf27f0a5-efe9-42ed-a3ce-428df6656ac5",
   "metadata": {},
   "outputs": [
    {
     "name": "stdout",
     "output_type": "stream",
     "text": [
      "your name is  Varun.R\n",
      "Varun.R\n"
     ]
    }
   ],
   "source": [
    "class name:\n",
    "    def __init__(x,fname):\n",
    "        x.fname=fname\n",
    "    def my_func(x):\n",
    "        print(\"your name is \",x.fname)\n",
    "n1=name(\"Varun.R\")\n",
    "n1.my_func()\n",
    "print(n1.fname)"
   ]
  },
  {
   "cell_type": "markdown",
   "id": "b94f3934-da58-4b82-b991-f94f2abb9389",
   "metadata": {},
   "source": [
    "# str function"
   ]
  },
  {
   "cell_type": "code",
   "execution_count": 37,
   "id": "76a53f26-0cad-4426-88fd-2490de14f322",
   "metadata": {},
   "outputs": [
    {
     "name": "stdout",
     "output_type": "stream",
     "text": [
      "varun\n"
     ]
    }
   ],
   "source": [
    "class name:\n",
    "    def __init__(other,name):\n",
    "        other.name=name\n",
    "    def __str__(other):\n",
    "        return f\"{other.name}\"\n",
    "x=name('varun')\n",
    "print(x)  #str returns the objests as string"
   ]
  },
  {
   "cell_type": "markdown",
   "id": "f571a17e-33e4-4bc7-a1ee-28d6ec312426",
   "metadata": {},
   "source": [
    "# Python Inheritance"
   ]
  },
  {
   "cell_type": "code",
   "execution_count": 19,
   "id": "c6159ede-fcb0-41ab-a882-620a0d478ffb",
   "metadata": {},
   "outputs": [],
   "source": [
    "class name:\n",
    "    def __init__(x,fname,lname):\n",
    "        x.fname=fname\n",
    "        x.lname=lname\n",
    "    \n"
   ]
  },
  {
   "cell_type": "code",
   "execution_count": 21,
   "id": "5a9cac16-7308-4be0-93f4-20afc86ddb50",
   "metadata": {},
   "outputs": [],
   "source": [
    "class frist(name):\n",
    "    def myfun(x):\n",
    "       print(f\"{x.fname},{x.lname}\")\n"
   ]
  },
  {
   "cell_type": "code",
   "execution_count": 41,
   "id": "131635a4-89ba-4390-8015-0c61f59e8e9d",
   "metadata": {},
   "outputs": [],
   "source": [
    "class second(frist):\n",
    "    def fun(x):\n",
    "        print(type(x.fname))\n",
    "        "
   ]
  },
  {
   "cell_type": "code",
   "execution_count": 43,
   "id": "d0ad6959-e1ab-48fd-b967-fba8515e8038",
   "metadata": {},
   "outputs": [],
   "source": [
    "p = frist(\"a\",\"b\")"
   ]
  },
  {
   "cell_type": "code",
   "execution_count": 45,
   "id": "113ea9da-05b7-43d4-9df8-f6ea2ed6f167",
   "metadata": {},
   "outputs": [
    {
     "data": {
      "text/plain": [
       "'a'"
      ]
     },
     "execution_count": 45,
     "metadata": {},
     "output_type": "execute_result"
    }
   ],
   "source": [
    "p.fname"
   ]
  },
  {
   "cell_type": "code",
   "execution_count": 47,
   "id": "8c8985f6-e5af-4f97-8b6a-0d4d81e0043c",
   "metadata": {},
   "outputs": [
    {
     "name": "stdout",
     "output_type": "stream",
     "text": [
      "a,b\n"
     ]
    }
   ],
   "source": [
    "p.myfun()"
   ]
  },
  {
   "cell_type": "code",
   "execution_count": 51,
   "id": "ebefd9d8-27b2-462a-8c5a-2b291a059cc2",
   "metadata": {},
   "outputs": [],
   "source": [
    "p = second(\"a\",\"c\")"
   ]
  },
  {
   "cell_type": "code",
   "execution_count": 53,
   "id": "0c4f612f-c91a-4a68-88b1-9d21587356ed",
   "metadata": {},
   "outputs": [
    {
     "name": "stdout",
     "output_type": "stream",
     "text": [
      "<class 'str'>\n"
     ]
    }
   ],
   "source": [
    "p.fun()"
   ]
  },
  {
   "cell_type": "markdown",
   "id": "fe061eb6-193d-498a-9ad8-345383566580",
   "metadata": {},
   "source": [
    "# multiple inherentence"
   ]
  },
  {
   "cell_type": "code",
   "execution_count": 182,
   "id": "4941a99e-b858-41d4-adf3-f73f515917b5",
   "metadata": {},
   "outputs": [
    {
     "name": "stdout",
     "output_type": "stream",
     "text": [
      "pavan,murthy,P\n"
     ]
    }
   ],
   "source": [
    "#multiple inherentence\n",
    "class name:\n",
    "    def __init__(x,fname,lname):\n",
    "        x.fname=fname\n",
    "        x.lname=lname\n",
    "class frist:\n",
    "    def __init__(x,f_w):\n",
    "        x.f_w=f_w\n",
    "class second(name, frist):\n",
    "    def __init__(x,fname,lname,f_w):\n",
    "        name.__init__(x,fname,lname)\n",
    "        frist.__init__(x,f_w)\n",
    "    def myfun(x):\n",
    "        print(f\"{x.fname},{x.lname},{x.f_w}\")\n",
    "\n",
    "r=second(\"pavan\",\"murthy\",\"P\")\n",
    "r.myfun()"
   ]
  },
  {
   "cell_type": "markdown",
   "id": "afc94e09-719b-48cf-9c90-b50b0da44c47",
   "metadata": {},
   "source": [
    "# .Multiple Inheritance:"
   ]
  },
  {
   "cell_type": "code",
   "execution_count": 172,
   "id": "77d19e63-ddab-47ce-9e47-7d38da97d996",
   "metadata": {},
   "outputs": [
    {
     "name": "stdout",
     "output_type": "stream",
     "text": [
      "John, Doe, Engineer\n"
     ]
    }
   ],
   "source": [
    "class Name:\n",
    "    def __init__(self, fname, lname):\n",
    "        self.fname = fname\n",
    "        self.lname = lname\n",
    "\n",
    "class First:\n",
    "    def __init__(self, f_w):\n",
    "        self.f_w = f_w\n",
    "\n",
    "class Second(Name, First):\n",
    "    def __init__(self, fname, lname, f_w):\n",
    "        Name.__init__(self, fname, lname)\n",
    "        First.__init__(self, f_w)\n",
    "\n",
    "    def myfun(self):\n",
    "        print(f\"{self.fname}, {self.lname}, {self.f_w}\")\n",
    "\n",
    "# Example usage:\n",
    "person = Second(\"John\", \"Doe\", \"Engineer\")\n",
    "person.myfun()  # Output: John, Doe, Engineer\n"
   ]
  },
  {
   "cell_type": "markdown",
   "id": "dfa76825-4427-4b64-a16e-d8ad456f6fb3",
   "metadata": {},
   "source": [
    "# Single Inheritance:"
   ]
  },
  {
   "cell_type": "code",
   "execution_count": 7,
   "id": "e3235871-7d77-4dc9-b268-f8142f374502",
   "metadata": {},
   "outputs": [
    {
     "name": "stdout",
     "output_type": "stream",
     "text": [
      "p\n"
     ]
    }
   ],
   "source": [
    "class name:\n",
    "    x=(\"pavan\")\n",
    "    y=(\"Murthy\")\n",
    "class frist(name):\n",
    "    def myfun(self):\n",
    "        z=self.x[0]\n",
    "        print(z)\n",
    "p= frist()\n",
    "p.myfun()"
   ]
  },
  {
   "cell_type": "markdown",
   "id": "4a36729e-5695-4eac-a7d5-15b3470155ca",
   "metadata": {},
   "source": [
    "# .Multilevel Inheritance"
   ]
  },
  {
   "cell_type": "code",
   "execution_count": 67,
   "id": "7b7f699c-adb7-4599-a0ce-919db029d0ba",
   "metadata": {},
   "outputs": [],
   "source": [
    "class grandp:\n",
    "    def __init__(self,name):\n",
    "        self.name=name\n",
    "class parent(grandp):\n",
    "    def __init__(self,name,lname):\n",
    "        self.lname=lname\n",
    "        grandp.__init__(self,name)\n",
    "class child(parent):\n",
    "    def __init__(self,name,lname,age):\n",
    "        parent.__init__(self,name,lname)\n",
    "        self.age=age\n",
    "    def nam(self):\n",
    "        x=f\"fristname is {self.name} last name is {self.lname} age is {self.age}\"\n",
    "        return x"
   ]
  },
  {
   "cell_type": "code",
   "execution_count": 69,
   "id": "a2767eab-f4d4-4420-9668-8825fbe01d71",
   "metadata": {},
   "outputs": [],
   "source": [
    "g= child(\"Pavan\",\"Murthy\",20)"
   ]
  },
  {
   "cell_type": "code",
   "execution_count": 71,
   "id": "9de35090-c40c-4885-b5ef-8c5af6220300",
   "metadata": {},
   "outputs": [
    {
     "data": {
      "text/plain": [
       "'fristname is Pavan last name is Murthy age is 20'"
      ]
     },
     "execution_count": 71,
     "metadata": {},
     "output_type": "execute_result"
    }
   ],
   "source": [
    "g.nam()"
   ]
  },
  {
   "cell_type": "markdown",
   "id": "73f0218a-c854-41cd-a746-42d9922f9622",
   "metadata": {},
   "source": [
    "# Hierarchical Inheritance"
   ]
  },
  {
   "cell_type": "code",
   "execution_count": 44,
   "id": "859d0fca-8003-4539-9dd9-a0fbb30101b5",
   "metadata": {},
   "outputs": [],
   "source": [
    "class grandp:\n",
    "    def __init__(self,name):\n",
    "        self.name=name\n",
    "class parent(grandp):\n",
    "    def __init__(self,name,lname):\n",
    "        self.lname=lname\n",
    "        grandp.__init__(self,name)\n",
    "class child(grandp):\n",
    "    def __init__(self,name,lname,age):\n",
    "        parent.__init__(self,name,lname)\n",
    "        self.age=age\n",
    "    def nam(self):\n",
    "        x=f\"fristname is {self.name} last name is {self.lname} age is {self.age}\"\n",
    "        return x"
   ]
  },
  {
   "cell_type": "code",
   "execution_count": 46,
   "id": "f043a519-1949-4c31-a17a-c4856411d628",
   "metadata": {},
   "outputs": [],
   "source": [
    "g= child(\"Pavan\",\"Murthy\",20)"
   ]
  },
  {
   "cell_type": "code",
   "execution_count": 48,
   "id": "69cc2911-ece2-4b20-b6d3-fb0cdf33fa7a",
   "metadata": {},
   "outputs": [
    {
     "data": {
      "text/plain": [
       "'fristname is Pavan last name is Murthy age is 20'"
      ]
     },
     "execution_count": 48,
     "metadata": {},
     "output_type": "execute_result"
    }
   ],
   "source": [
    "g.nam()"
   ]
  },
  {
   "cell_type": "markdown",
   "id": "ec83df8e-27d8-4043-a881-ede57b9aaa41",
   "metadata": {},
   "source": [
    "# Hybrid Inheritance"
   ]
  },
  {
   "cell_type": "code",
   "execution_count": 164,
   "id": "09f6c3b8-1b90-4222-b60f-00f517fb4c89",
   "metadata": {},
   "outputs": [],
   "source": [
    "class grandp:\n",
    "    def __init__(self,name):\n",
    "        self.name=name\n",
    "class parent0(grandp):\n",
    "    def __init__(self,name,age):\n",
    "        grandp.__init__(self,name)\n",
    "        self.age=age\n",
    "class parent1:\n",
    "    def __init__(self,something):\n",
    "        self.something=something\n",
    "class child0(parent0,parent1):\n",
    "    def __init__(self,name,age,something):\n",
    "        parent0.__init__(self,name,age)\n",
    "        parent1.__init__(self,something)\n",
    "    def nam(self):\n",
    "        x=f\"fristname is {self.name} age is {self.age} somthing is {self.something}\"\n",
    "        return x"
   ]
  },
  {
   "cell_type": "code",
   "execution_count": null,
   "id": "8a310914-14c5-4ec6-ae5b-decef8149995",
   "metadata": {},
   "outputs": [],
   "source": [
    "g= child0(\"Pavan\",20,\"something\")"
   ]
  },
  {
   "cell_type": "markdown",
   "id": "c0aef01b-251c-4efe-8ed6-01f8a4f8e557",
   "metadata": {},
   "source": [
    "# example for  Polymorphism"
   ]
  },
  {
   "cell_type": "code",
   "execution_count": 7,
   "id": "be4864cb-5355-44a7-a089-cc99fd21e04a",
   "metadata": {},
   "outputs": [],
   "source": [
    "class squar:\n",
    "    def area(self):\n",
    "        s=5\n",
    "        x=s**2\n",
    "        return x\n",
    "    def peri(self):\n",
    "        s=5\n",
    "        p=4*s\n",
    "        return p\n",
    "class triangle:\n",
    "    def area(self):\n",
    "        b=4\n",
    "        h=3\n",
    "        a=(1/2)*b*h\n",
    "        return a\n",
    "    def peri(self):\n",
    "        a=2\n",
    "        b=3\n",
    "        c=4\n",
    "        p= a + b + c\n",
    "        return p\n",
    "r=3\n",
    "class circle:\n",
    "    \n",
    "    def area(self):\n",
    "        a=3.14*r**2\n",
    "        return a\n",
    "    def peri(self):\n",
    "        C=2*3.14*r\n",
    "        return C"
   ]
  },
  {
   "cell_type": "code",
   "execution_count": 137,
   "id": "c588aa61-4f95-4df0-a1db-7b1e7c45d09b",
   "metadata": {},
   "outputs": [],
   "source": [
    "obj1=squar()\n",
    "obj2=triangle()\n",
    "obj3=circle()\n"
   ]
  },
  {
   "cell_type": "code",
   "execution_count": 151,
   "id": "1e651cfd-928f-40ef-963e-1ef59bdf2670",
   "metadata": {},
   "outputs": [
    {
     "name": "stdout",
     "output_type": "stream",
     "text": [
      "area of {<__main__.squar object at 0x0000025E2C642010>} is,{25}\n",
      "perimeter 20\n",
      "area of {<__main__.triangle object at 0x0000025E2C6E7950>} is,{6.0}\n",
      "perimeter 9\n",
      "area of {<__main__.circle object at 0x0000025E2C6E4D50>} is,{28.26}\n",
      "perimeter 18.84\n"
     ]
    }
   ],
   "source": [
    "for area in (obj1,obj2,obj3):\n",
    "    area.area()\n",
    "    area.peri()\n",
    "    print(\"area of {} is,{}\".format({area},{area.area()}))\n",
    "    print(\"perimeter\",area.peri())"
   ]
  },
  {
   "cell_type": "markdown",
   "id": "e6caab42-b1f5-4533-a82e-f5c7386a69fe",
   "metadata": {},
   "source": [
    "# tried something"
   ]
  },
  {
   "cell_type": "code",
   "execution_count": 156,
   "id": "394c5a1d-2614-4775-95b0-618fdc46adf1",
   "metadata": {},
   "outputs": [],
   "source": [
    "class main:\n",
    "    def __init__(self,s_area,a_peri,c_area,c_peri,t_area,t_peri):\n",
    "      self.s_area = s*s\n",
    "      self.a_peri = 4*s\n",
    "      self.c_area = 3.14*s**2\n",
    "      self.c_peri = c_peri\n",
    "      self.t_area = s*s\n",
    "      self.t_peri = 4*s\n",
    "class squar(main):\n",
    "    def area(self):\n",
    "        print(\"area is \",self.s_area)\n",
    "    def peri(self):\n",
    "        print(self.a_peri)\n",
    "class circle(main):\n",
    "    def area(self):\n",
    "        print(\"area is \",self.c_area)\n",
    "    def peri(self):\n",
    "        self.c_peri = 2*3.14*s\n",
    "        print(self.c_peri)"
   ]
  },
  {
   "cell_type": "code",
   "execution_count": 141,
   "id": "cdee36b7-6293-4e93-bb88-75dc24f6ec83",
   "metadata": {},
   "outputs": [],
   "source": [
    "obj1=squar(5,5,None,None,None,None)\n",
    "obj2 = circle(5,5,None,None,None,None)"
   ]
  },
  {
   "cell_type": "code",
   "execution_count": 143,
   "id": "b47d78e0-829f-49bc-b255-ee66a12000f1",
   "metadata": {},
   "outputs": [
    {
     "name": "stdout",
     "output_type": "stream",
     "text": [
      "area is  25\n",
      "area is  78.5\n"
     ]
    }
   ],
   "source": [
    "obj1.area()\n",
    "obj2.area()"
   ]
  },
  {
   "cell_type": "code",
   "execution_count": 145,
   "id": "f528d65e-1ccb-49d9-808b-a4915114fe10",
   "metadata": {},
   "outputs": [
    {
     "name": "stdout",
     "output_type": "stream",
     "text": [
      "20\n"
     ]
    }
   ],
   "source": [
    "obj1.peri()"
   ]
  },
  {
   "cell_type": "markdown",
   "id": "cf143e25-244c-47a4-8b80-962e5c31625e",
   "metadata": {},
   "source": [
    "# example for  Polymorphism with Inheritance"
   ]
  },
  {
   "cell_type": "code",
   "execution_count": 166,
   "id": "d5f1389f-7323-4cb6-adb1-f14dd79672ab",
   "metadata": {},
   "outputs": [
    {
     "name": "stdout",
     "output_type": "stream",
     "text": [
      "Square Area: 16\n",
      "<class 'int'>\n",
      "Triangle Area: 6.0\n",
      "Circle Area: 78.53981633974483\n"
     ]
    }
   ],
   "source": [
    "import math\n",
    "# Base class\n",
    "class Shape:\n",
    "    FORMULAS = {\n",
    "        'square': 'side_length ** 2',\n",
    "        'triangle': '0.5 * base * height',\n",
    "        'circle': 'math.pi * (radius ** 2)'\n",
    "    }\n",
    "\n",
    "# Derived class: Square\n",
    "class Square(Shape):\n",
    "    def __init__(self, side_length):\n",
    "        self.side_length = side_length\n",
    "\n",
    "    def calculate_area(self):\n",
    "        return eval(self.FORMULAS['square'], {'side_length': self.side_length})\n",
    "\n",
    "# Derived class: Triangle\n",
    "class Triangle(Shape):\n",
    "    def __init__(self, base, height):\n",
    "        self.base = base\n",
    "        self.height = height\n",
    "\n",
    "    def calculate_area(self):\n",
    "        return eval(self.FORMULAS['triangle'], {'base': self.base, 'height': self.height})\n",
    "\n",
    "# Derived class: Circle\n",
    "class Circle(Shape):\n",
    "    def __init__(self, radius):\n",
    "        self.radius = radius\n",
    "\n",
    "    def calculate_area(self):\n",
    "        return eval(self.FORMULAS['circle'], {'radius': self.radius, 'math': math})\n",
    "\n",
    "# Usage\n",
    "square = Square(4)\n",
    "triangle = Triangle(3, 4)\n",
    "circle = Circle(5)\n",
    "\n",
    "print(f\"Square Area: {square.calculate_area()}\")\n",
    "print(type(square.calculate_area()))\n",
    "print(f\"Triangle Area: {triangle.calculate_area()}\")\n",
    "print(f\"Circle Area: {circle.calculate_area()}\")"
   ]
  },
  {
   "cell_type": "markdown",
   "id": "4f781356-0ff7-4c42-af04-6cb7f1c3f692",
   "metadata": {},
   "source": [
    "# Encapsulation"
   ]
  },
  {
   "cell_type": "code",
   "execution_count": 293,
   "id": "ad0aba71-85d8-4426-a642-0da9f9a4ed26",
   "metadata": {},
   "outputs": [],
   "source": [
    "class cd_name():\n",
    "    def __init__(self,code_name):\n",
    "        self.__code_name=code_name\n",
    "class nam(cd_name):\n",
    "    def __init__(self,code_name,name):\n",
    "        cd_name.__init__(self,code_name)\n",
    "        self._name=name\n",
    "    def name1(self):\n",
    "        print(f\"{self._name}\")"
   ]
  },
  {
   "cell_type": "code",
   "execution_count": 295,
   "id": "a96131ac-df97-4774-9573-dd007a781eee",
   "metadata": {},
   "outputs": [],
   "source": [
    "obj=nam(\"007\",\"pavan\")"
   ]
  },
  {
   "cell_type": "code",
   "execution_count": 297,
   "id": "df88b990-ee82-4100-be9e-8de3c330d3a5",
   "metadata": {},
   "outputs": [
    {
     "name": "stdout",
     "output_type": "stream",
     "text": [
      "pavan\n",
      "007\n"
     ]
    }
   ],
   "source": [
    "obj.name1()\n",
    "print(obj._cd_name__code_name)"
   ]
  },
  {
   "cell_type": "code",
   "execution_count": null,
   "id": "9b027d70-ae76-4f7b-9ea1-fa5ec68d8766",
   "metadata": {},
   "outputs": [],
   "source": []
  }
 ],
 "metadata": {
  "kernelspec": {
   "display_name": "Python 3 (ipykernel)",
   "language": "python",
   "name": "python3"
  },
  "language_info": {
   "codemirror_mode": {
    "name": "ipython",
    "version": 3
   },
   "file_extension": ".py",
   "mimetype": "text/x-python",
   "name": "python",
   "nbconvert_exporter": "python",
   "pygments_lexer": "ipython3",
   "version": "3.11.7"
  }
 },
 "nbformat": 4,
 "nbformat_minor": 5
}
