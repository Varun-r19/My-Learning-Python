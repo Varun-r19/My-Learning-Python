{
 "cells": [
  {
   "cell_type": "code",
   "execution_count": 3,
   "id": "a68467ae-b56d-497a-b63e-56f550a79fc2",
   "metadata": {},
   "outputs": [
    {
     "name": "stdout",
     "output_type": "stream",
     "text": [
      "a\n"
     ]
    }
   ],
   "source": [
    "a=12\n",
    "b=23\n",
    "if a<b:\n",
    "    print(\"a\")\n",
    "else:\n",
    "    print(\"b\")"
   ]
  },
  {
   "cell_type": "code",
   "execution_count": 7,
   "id": "82acbb58-36f0-4997-8d80-5fa8c32b2d43",
   "metadata": {},
   "outputs": [
    {
     "name": "stdout",
     "output_type": "stream",
     "text": [
      "a\n"
     ]
    }
   ],
   "source": [
    "a=12\n",
    "b=23\n",
    "print(\"a\") if a<b else print(\"b\")#Short Hand If ... Else"
   ]
  },
  {
   "cell_type": "code",
   "execution_count": 15,
   "id": "80b03365-ed2f-4955-ae77-e98340e129be",
   "metadata": {},
   "outputs": [
    {
     "name": "stdout",
     "output_type": "stream",
     "text": [
      "b\n"
     ]
    }
   ],
   "source": [
    "a=15\n",
    "b=12\n",
    "if a<b :\n",
    "    print(\"a\")\n",
    "elif a==b:\n",
    "    print(\"a=b\")\n",
    "else:\n",
    "    print(\"b\")\n",
    "    "
   ]
  },
  {
   "cell_type": "code",
   "execution_count": 29,
   "id": "78be1765-8607-4842-ae3a-d635337a682b",
   "metadata": {},
   "outputs": [
    {
     "name": "stdout",
     "output_type": "stream",
     "text": [
      "a=b\n"
     ]
    }
   ],
   "source": [
    "a=12\n",
    "b=12\n",
    "\n",
    "print(\"a\") if a<b else print(\"a=b\") if a==b else print(\"b\") #Short Hand If ... Else"
   ]
  },
  {
   "cell_type": "code",
   "execution_count": 35,
   "id": "786a8557-52b0-4173-a0ce-20014404f9f5",
   "metadata": {},
   "outputs": [
    {
     "name": "stdout",
     "output_type": "stream",
     "text": [
      "b is greater\n"
     ]
    }
   ],
   "source": [
    "a=12\n",
    "b=16\n",
    "c=14\n",
    "if a<b and b>c:\n",
    "    print(\"b is greater\")"
   ]
  },
  {
   "cell_type": "code",
   "execution_count": 39,
   "id": "e3aebc7b-640d-4c5d-9c99-d48a75f42844",
   "metadata": {},
   "outputs": [
    {
     "name": "stdout",
     "output_type": "stream",
     "text": [
      "a<b or c<b\n"
     ]
    }
   ],
   "source": [
    "a=12 \n",
    "b=41\n",
    "c=14\n",
    "if a<b or c<b:     # a logical operator, and is used to combine conditional statements\n",
    "    print(\"a<b or c<b\")"
   ]
  },
  {
   "cell_type": "code",
   "execution_count": null,
   "id": "f111510f-e837-4b30-bedf-b7b2ad2de631",
   "metadata": {},
   "outputs": [],
   "source": []
  },
  {
   "cell_type": "code",
   "execution_count": 41,
   "id": "037f5299-3fba-489a-842c-e887865e2df8",
   "metadata": {},
   "outputs": [
    {
     "name": "stdout",
     "output_type": "stream",
     "text": [
      "a is not greater than b\n"
     ]
    }
   ],
   "source": [
    "a=16\n",
    "b=48\n",
    "if not a>b:\n",
    "    print(\"a is not greater than b\")"
   ]
  },
  {
   "cell_type": "code",
   "execution_count": 47,
   "id": "e8ba7ce1-0aa2-493d-946d-5e1879dbdbfc",
   "metadata": {},
   "outputs": [
    {
     "name": "stdout",
     "output_type": "stream",
     "text": [
      ">10\n",
      " <20\n"
     ]
    }
   ],
   "source": [
    "x = 16\n",
    "\n",
    "if x > 10:\n",
    "  print(\">10\")  #Nested If  \n",
    "  if x > 20:\n",
    "    print(\" >20\")\n",
    "  else:\n",
    "    print(\" <20\")\n"
   ]
  },
  {
   "cell_type": "code",
   "execution_count": 49,
   "id": "79f127a5-3e30-4edc-92d6-e327dbaa5378",
   "metadata": {},
   "outputs": [],
   "source": [
    "a=16\n",
    "b=48\n",
    "if not a>b: #pass statement to avoid getting an error. with no content\n",
    "    pass"
   ]
  },
  {
   "cell_type": "markdown",
   "id": "7dea0825-8384-46ea-bcb2-ea40719fdc88",
   "metadata": {},
   "source": [
    "# While Loop"
   ]
  },
  {
   "cell_type": "code",
   "execution_count": 9,
   "id": "f0f8c9a2-bb81-4dcd-80f5-e31b62ae6163",
   "metadata": {},
   "outputs": [
    {
     "name": "stdout",
     "output_type": "stream",
     "text": [
      "0\n",
      "1\n",
      "2\n",
      "3\n",
      "4\n",
      "5\n",
      "6\n"
     ]
    }
   ],
   "source": [
    "i = 0\n",
    "while i <= 6:\n",
    "    print(i)\n",
    "    i += 1"
   ]
  },
  {
   "cell_type": "code",
   "execution_count": 14,
   "id": "7dbf51f6-41ff-430b-9327-f21a520b1e31",
   "metadata": {},
   "outputs": [
    {
     "name": "stdout",
     "output_type": "stream",
     "text": [
      "0\n",
      "1\n",
      "2\n",
      "3\n",
      "4\n",
      "its breaking\n"
     ]
    }
   ],
   "source": [
    "i = 0\n",
    "while i <= 6:\n",
    "    print(i)\n",
    "    if i== 4:\n",
    "        print(\"its breaking\")\n",
    "        break\n",
    "    i += 1"
   ]
  },
  {
   "cell_type": "code",
   "execution_count": 20,
   "id": "8ccb3e82-8fd5-4c11-bb08-cc8dbbf2773b",
   "metadata": {},
   "outputs": [
    {
     "name": "stdout",
     "output_type": "stream",
     "text": [
      "1\n",
      "2\n",
      "3\n",
      "we dont need 4\n",
      "5\n",
      "6\n",
      "7\n"
     ]
    }
   ],
   "source": [
    "i = 0\n",
    "while i <= 6:\n",
    "    i += 1\n",
    "    if i== 4:\n",
    "        print(\"we dont need 4\")\n",
    "        continue\n",
    "    print(i)\n",
    "    "
   ]
  },
  {
   "cell_type": "code",
   "execution_count": 28,
   "id": "676ad422-ffed-4e5c-b13e-8324f04ac946",
   "metadata": {},
   "outputs": [
    {
     "name": "stdout",
     "output_type": "stream",
     "text": [
      "0\n",
      "1\n",
      "2\n",
      "3\n",
      "4\n",
      "5\n",
      "this is bigger than 6\n"
     ]
    }
   ],
   "source": [
    "i=0\n",
    "while i<6:\n",
    "    print(i)\n",
    "    i+=1\n",
    "else:\n",
    "    print(\"this is bigger than 6\")"
   ]
  },
  {
   "cell_type": "markdown",
   "id": "9ed2d8cb-0869-4e87-8699-4f5d526e20a4",
   "metadata": {},
   "source": [
    "# For Loop"
   ]
  },
  {
   "cell_type": "code",
   "execution_count": 2,
   "id": "66bcb7cd-42dc-45a8-b774-f95d28e52fda",
   "metadata": {},
   "outputs": [
    {
     "name": "stdout",
     "output_type": "stream",
     "text": [
      "apples\n",
      "banana\n",
      "cherry\n"
     ]
    }
   ],
   "source": [
    "fruits=[\"apples\",\"banana\",\"cherry\"]\n",
    "for x in fruits:\n",
    "    print(x)"
   ]
  },
  {
   "cell_type": "code",
   "execution_count": 4,
   "id": "9174cde5-2d2c-45a1-badf-ecf73c558ddb",
   "metadata": {},
   "outputs": [
    {
     "name": "stdout",
     "output_type": "stream",
     "text": [
      "apples\n",
      "banana\n"
     ]
    }
   ],
   "source": [
    "fruits=[\"apples\",\"banana\",\"cherry\"]\n",
    "for x in fruits:\n",
    "    print(x)\n",
    "    if x==\"banana\":\n",
    "        break"
   ]
  },
  {
   "cell_type": "code",
   "execution_count": 6,
   "id": "8ee0fc6b-225b-4f60-abad-3553f7d32fda",
   "metadata": {},
   "outputs": [
    {
     "name": "stdout",
     "output_type": "stream",
     "text": [
      "apples\n"
     ]
    }
   ],
   "source": [
    "fruits=[\"apples\",\"banana\",\"cherry\"]\n",
    "for x in fruits:\n",
    "    if x==\"banana\":\n",
    "        break\n",
    "    print(x)"
   ]
  },
  {
   "cell_type": "code",
   "execution_count": 8,
   "id": "425811ed-7afe-41be-9601-99c3f7362b70",
   "metadata": {},
   "outputs": [
    {
     "name": "stdout",
     "output_type": "stream",
     "text": [
      "apples\n",
      "cherry\n"
     ]
    }
   ],
   "source": [
    "fruits=[\"apples\",\"banana\",\"cherry\"]\n",
    "for x in fruits:\n",
    "    if x==\"banana\":\n",
    "        continue\n",
    "    print(x)"
   ]
  },
  {
   "cell_type": "code",
   "execution_count": 10,
   "id": "ee9ccd80-387c-459b-b9b2-9002ab3e6551",
   "metadata": {},
   "outputs": [
    {
     "name": "stdout",
     "output_type": "stream",
     "text": [
      "0\n",
      "1\n",
      "2\n",
      "3\n",
      "4\n",
      "5\n"
     ]
    }
   ],
   "source": [
    "for x in range(6):  #To loop through a set of code a specified number of times range is used\n",
    "  print(x)"
   ]
  },
  {
   "cell_type": "code",
   "execution_count": 12,
   "id": "b57a4310-0bcc-44fe-923e-d3e3c3e1b0c2",
   "metadata": {},
   "outputs": [
    {
     "name": "stdout",
     "output_type": "stream",
     "text": [
      "2\n",
      "3\n",
      "4\n",
      "5\n"
     ]
    }
   ],
   "source": [
    "for x in range(2, 6): #which means values from 2 to 6 (but not including 6):\n",
    "  print(x)"
   ]
  },
  {
   "cell_type": "code",
   "execution_count": 18,
   "id": "bdbce0fe-0353-4353-b8f5-49050b2f14e8",
   "metadata": {},
   "outputs": [
    {
     "name": "stdout",
     "output_type": "stream",
     "text": [
      "2\n",
      "5\n",
      "8\n",
      "11\n",
      "14\n",
      "17\n",
      "20\n",
      "23\n",
      "26\n",
      "29\n",
      "finished\n"
     ]
    }
   ],
   "source": [
    "for x in range(2, 30, 3): #which means values from 2 to 6 Increment the sequence with 3\n",
    "  print(x)\n",
    "else:   #block of code to be executed when the loop is finished:\n",
    "    print(\"finished\")"
   ]
  },
  {
   "cell_type": "code",
   "execution_count": 20,
   "id": "7c85c7a6-3892-4cc1-a8e7-21166cefbecd",
   "metadata": {},
   "outputs": [
    {
     "name": "stdout",
     "output_type": "stream",
     "text": [
      "2\n",
      "5\n",
      "8\n",
      "11\n"
     ]
    }
   ],
   "source": [
    "for x in range(2, 30, 3): #which means values from 2 to 6 Increment the sequence with 3\n",
    "    if x ==14: break #The else block will NOT be executed if the loop is stopped by a break statement\n",
    "    print(x) \n",
    "else: \n",
    "    print(\"finished\")"
   ]
  },
  {
   "cell_type": "code",
   "execution_count": 22,
   "id": "cc287b4c-a9ab-4473-b3cd-4f7a9d7708ff",
   "metadata": {},
   "outputs": [
    {
     "name": "stdout",
     "output_type": "stream",
     "text": [
      "apples green\n",
      "apples yellow\n",
      "apples red\n",
      "banana green\n",
      "banana yellow\n",
      "banana red\n",
      "cherry green\n",
      "cherry yellow\n",
      "cherry red\n"
     ]
    }
   ],
   "source": [
    "fruits=[\"apples\",\"banana\",\"cherry\"]\n",
    "col=['green','yellow','red']\n",
    "for x in fruits:\n",
    "    for y in col:  #Nested Loops\n",
    "        print(x,y)"
   ]
  },
  {
   "cell_type": "code",
   "execution_count": 24,
   "id": "868c6722-e34c-4930-becb-cc430aa5f674",
   "metadata": {},
   "outputs": [],
   "source": [
    "for x in [0, 1, 2]:\n",
    "  pass       #pass statement to avoid getting an error"
   ]
  },
  {
   "cell_type": "markdown",
   "id": "08e84b6e-da4e-4426-aae2-ba3f2b4b8c84",
   "metadata": {},
   "source": [
    "# Functions"
   ]
  },
  {
   "cell_type": "code",
   "execution_count": 43,
   "id": "b652dc6a-44af-471e-8abb-d6d4a6659235",
   "metadata": {},
   "outputs": [
    {
     "name": "stdout",
     "output_type": "stream",
     "text": [
      "Emil Refsnes\n"
     ]
    }
   ],
   "source": [
    "def my_function(x,y):  # 2 arguments == 2 parametrs, not more, and not less.\n",
    "  print(x + \" \" + y)\n",
    "\n",
    "my_function(\"Emil\", \"Refsnes\")"
   ]
  },
  {
   "cell_type": "code",
   "execution_count": 41,
   "id": "59da839a-34f1-4b6d-bd1c-9a4cdf58a70f",
   "metadata": {},
   "outputs": [
    {
     "name": "stdout",
     "output_type": "stream",
     "text": [
      "Emil\n"
     ]
    }
   ],
   "source": [
    "def my_function(x):  \n",
    "  print(x )\n",
    "\n",
    "my_function(\"Emil\")"
   ]
  },
  {
   "cell_type": "code",
   "execution_count": 45,
   "id": "08331230-8d58-4c9b-bcfd-e24b04389a1d",
   "metadata": {},
   "outputs": [
    {
     "name": "stdout",
     "output_type": "stream",
     "text": [
      "('Emil', 'linus', 'pavan')\n"
     ]
    }
   ],
   "source": [
    "def my_function(*x):  #arguments is unknown add *\n",
    "  print(x)\n",
    "\n",
    "my_function(\"Emil\",\"linus\",\"pavan\")"
   ]
  },
  {
   "cell_type": "code",
   "execution_count": 47,
   "id": "6b8ff266-5534-46a7-81e2-4f2df0ab7dea",
   "metadata": {},
   "outputs": [
    {
     "name": "stdout",
     "output_type": "stream",
     "text": [
      "1= varun\n"
     ]
    }
   ],
   "source": [
    "def names(name1,name4,name2,name3):   #Keyword Arguments\n",
    "    print(\"1=\",name3)\n",
    "names(name1=\"pavan\",name2=\"emil\",name3=\"varun\",name4=\"digvi\")"
   ]
  },
  {
   "cell_type": "code",
   "execution_count": 51,
   "id": "9d2023a4-40f7-44e5-ab29-076744927143",
   "metadata": {},
   "outputs": [
    {
     "name": "stdout",
     "output_type": "stream",
     "text": [
      "varunr\n"
     ]
    }
   ],
   "source": [
    "def name(**kid):\n",
    "    print(kid[\"fname\"]+kid[\"lname\"])\n",
    "name(fname=\"varun\",lname=\"r\")"
   ]
  },
  {
   "cell_type": "code",
   "execution_count": 53,
   "id": "678cfb57-b719-406f-8dc3-f1d3f91c1cfa",
   "metadata": {},
   "outputs": [
    {
     "name": "stdout",
     "output_type": "stream",
     "text": [
      "contry is Philippines\n",
      "contry is USA\n",
      "contry is india\n"
     ]
    }
   ],
   "source": [
    "def contry(name=\"india\"):\n",
    "    print(\"contry is \"+name)\n",
    "contry(\"Philippines\")\n",
    "contry(\"USA\")\n",
    "contry()"
   ]
  },
  {
   "cell_type": "code",
   "execution_count": 55,
   "id": "10942a4b-5521-496f-b865-d77cc03eab9a",
   "metadata": {},
   "outputs": [
    {
     "name": "stdout",
     "output_type": "stream",
     "text": [
      "var\n"
     ]
    }
   ],
   "source": [
    "def nam(x,/):\n",
    "    print(x)\n",
    "nam(\"var\")"
   ]
  },
  {
   "cell_type": "code",
   "execution_count": 57,
   "id": "39f8a565-aeac-41cd-93c7-7e3db06b0610",
   "metadata": {},
   "outputs": [
    {
     "name": "stdout",
     "output_type": "stream",
     "text": [
      "name\n"
     ]
    }
   ],
   "source": [
    "def nam(*,x):\n",
    "    print(x)\n",
    "nam(x=\"name\")"
   ]
  },
  {
   "cell_type": "code",
   "execution_count": 59,
   "id": "0696128e-173a-42ed-8bb8-28699fd569df",
   "metadata": {},
   "outputs": [
    {
     "name": "stdin",
     "output_type": "stream",
     "text": [
      " 5\n"
     ]
    },
    {
     "name": "stdout",
     "output_type": "stream",
     "text": [
      "2 4 is 5\n"
     ]
    }
   ],
   "source": [
    "def nam(x,y,/,*,z):\n",
    "    print(x,y,'is',z)\n",
    "\n",
    "nam(2,4,z=input())\n"
   ]
  },
  {
   "cell_type": "markdown",
   "id": "de6381a4-1763-4933-a63a-b27bd0276460",
   "metadata": {},
   "source": [
    "# Recursion"
   ]
  },
  {
   "cell_type": "code",
   "execution_count": 68,
   "id": "cdb3e32a-de20-4595-8a42-0f952b5f576a",
   "metadata": {},
   "outputs": [
    {
     "name": "stdin",
     "output_type": "stream",
     "text": [
      "put the positive no 5\n"
     ]
    },
    {
     "name": "stdout",
     "output_type": "stream",
     "text": [
      "120\n"
     ]
    }
   ],
   "source": [
    "def fact(x):   #to find the factorial of an integer\n",
    "    if x==1:\n",
    "        return 1\n",
    "    else:\n",
    "        return x*fact(x-1)\n",
    "\n",
    "print(fact(x=int(input(\"put the positive no\"))))\n"
   ]
  },
  {
   "cell_type": "code",
   "execution_count": 72,
   "id": "4794f702-47af-44a6-8e9c-ac34865c4938",
   "metadata": {},
   "outputs": [
    {
     "name": "stdin",
     "output_type": "stream",
     "text": [
      "pls positive no 58\n"
     ]
    },
    {
     "ename": "TypeError",
     "evalue": "'str' object cannot be interpreted as an integer",
     "output_type": "error",
     "traceback": [
      "\u001b[1;31m---------------------------------------------------------------------------\u001b[0m",
      "\u001b[1;31mTypeError\u001b[0m                                 Traceback (most recent call last)",
      "Cell \u001b[1;32mIn[72], line 7\u001b[0m\n\u001b[0;32m      5\u001b[0m         \u001b[38;5;28;01mreturn\u001b[39;00m fibo(x\u001b[38;5;241m-\u001b[39m\u001b[38;5;241m1\u001b[39m)\u001b[38;5;241m+\u001b[39mfibo(x\u001b[38;5;241m-\u001b[39m\u001b[38;5;241m2\u001b[39m)\n\u001b[0;32m      6\u001b[0m y\u001b[38;5;241m=\u001b[39m\u001b[38;5;28minput\u001b[39m(\u001b[38;5;124m\"\u001b[39m\u001b[38;5;124mpls positive no\u001b[39m\u001b[38;5;124m\"\u001b[39m)\n\u001b[1;32m----> 7\u001b[0m \u001b[38;5;28;01mfor\u001b[39;00m i \u001b[38;5;129;01min\u001b[39;00m \u001b[38;5;28mrange\u001b[39m(y):\n\u001b[0;32m      8\u001b[0m     \u001b[38;5;28mprint\u001b[39m(fibo(y))\n",
      "\u001b[1;31mTypeError\u001b[0m: 'str' object cannot be interpreted as an integer"
     ]
    }
   ],
   "source": [
    "def fibo(x):\n",
    "    if x<=1:\n",
    "        return 1\n",
    "    else:\n",
    "        return fibo(x-1)+fibo(x-2)\n",
    "y=input(\"pls positive no\")\n",
    "for i in range(y):\n",
    "    print(fibo(y))\n",
    "    "
   ]
  },
  {
   "cell_type": "code",
   "execution_count": null,
   "id": "48bd34cb-267e-4996-9a50-74b0aae33727",
   "metadata": {},
   "outputs": [],
   "source": []
  }
 ],
 "metadata": {
  "kernelspec": {
   "display_name": "Python 3 (ipykernel)",
   "language": "python",
   "name": "python3"
  },
  "language_info": {
   "codemirror_mode": {
    "name": "ipython",
    "version": 3
   },
   "file_extension": ".py",
   "mimetype": "text/x-python",
   "name": "python",
   "nbconvert_exporter": "python",
   "pygments_lexer": "ipython3",
   "version": "3.12.4"
  }
 },
 "nbformat": 4,
 "nbformat_minor": 5
}
